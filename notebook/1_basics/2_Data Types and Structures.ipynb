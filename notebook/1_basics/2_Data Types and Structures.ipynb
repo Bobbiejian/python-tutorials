{
 "cells": [
  {
   "cell_type": "markdown",
   "metadata": {},
   "source": [
    "# Data Types\n",
    "Python variables do not need explicit declaration"
   ]
  },
  {
   "cell_type": "code",
   "execution_count": null,
   "metadata": {},
   "outputs": [],
   "source": [
    "count = 100\n",
    "type(count)"
   ]
  },
  {
   "cell_type": "code",
   "execution_count": null,
   "metadata": {},
   "outputs": [],
   "source": [
    "meters = 1.2\n",
    "type(meters)"
   ]
  },
  {
   "cell_type": "code",
   "execution_count": null,
   "metadata": {},
   "outputs": [],
   "source": [
    "name = \"Women Who Code\"\n",
    "type(name)"
   ]
  },
  {
   "cell_type": "code",
   "execution_count": null,
   "metadata": {},
   "outputs": [],
   "source": [
    "WWCodeRocks = True\n",
    "type(WWCodeRocks)"
   ]
  },
  {
   "cell_type": "code",
   "execution_count": null,
   "metadata": {},
   "outputs": [],
   "source": [
    "pi = 3.14J\n",
    "print(pi)\n",
    "type(pi)"
   ]
  },
  {
   "cell_type": "markdown",
   "metadata": {},
   "source": [
    "## Multiple Assignment"
   ]
  },
  {
   "cell_type": "markdown",
   "metadata": {},
   "source": [
    "Python allows assigning a single value to several variables simultaneously."
   ]
  },
  {
   "cell_type": "code",
   "execution_count": null,
   "metadata": {},
   "outputs": [],
   "source": [
    "I = luv = U = True\n",
    "print(\"All three variables: I luv U are\")\n",
    "print(I and luv and U)"
   ]
  },
  {
   "cell_type": "code",
   "execution_count": null,
   "metadata": {},
   "outputs": [],
   "source": [
    "b, f, country = True, 2.0, \"Singapore\"\n",
    "print(str(b) + ' ' + country)\n",
    "f"
   ]
  },
  {
   "cell_type": "markdown",
   "metadata": {},
   "source": [
    "## Delete assignment\n",
    "As Python allows manual 'garbage collection' to delete a variable"
   ]
  },
  {
   "cell_type": "code",
   "execution_count": null,
   "metadata": {},
   "outputs": [],
   "source": [
    "del f\n",
    "print(f)"
   ]
  },
  {
   "cell_type": "markdown",
   "metadata": {},
   "source": [
    "# Data Structures"
   ]
  },
  {
   "cell_type": "markdown",
   "metadata": {},
   "source": [
    "## Strings\n",
    "Strings are a continuous set of characters represented by quotation marks."
   ]
  },
  {
   "cell_type": "code",
   "execution_count": null,
   "metadata": {},
   "outputs": [],
   "source": [
    "a_string = 'Hello' + ' ' + \"Women Who Code!\"\n",
    "print(a_string)\n",
    "print(\"str[0]  :\" + a_string[0])\n",
    "print(\"str[2:5]:\" + a_string[2:5]) # Python speak: slicing\n",
    "print(\"str[2:] :\" + a_string[2:])\n",
    "print(\"str * 2 :\" + a_string*2)"
   ]
  },
  {
   "cell_type": "markdown",
   "metadata": {},
   "source": [
    "## Lists\n",
    "Lists in Python contains items separated by commans and enclosed within square brackets, '[' ']'.  \n",
    "Values stored in a list can be accessed using the slice operator ([] and [:])"
   ]
  },
  {
   "cell_type": "code",
   "execution_count": null,
   "metadata": {},
   "outputs": [],
   "source": [
    "list = [ \"WWCode\", 786 , 2.23, 'singapore', 70.2 ]\n",
    "print(list[0:3])\n",
    "type(list)"
   ]
  },
  {
   "cell_type": "markdown",
   "metadata": {},
   "source": [
    "## Tuples\n",
    "Lists are enclosed in brackets ( [ ] ) and their elements and size can be changed.  \n",
    "Tuples are enclosed in parentheses ( ( ) ) and cannot be updated."
   ]
  },
  {
   "cell_type": "code",
   "execution_count": null,
   "metadata": {},
   "outputs": [],
   "source": [
    "t1 = ( \"WWCode\", 100000 , 2.23 )\n",
    "t2 = 'Singapore', 1160.5\n",
    "t_singleton = ('We',) # singleton\n",
    "t_empty = ()\n",
    "print(type(t1)); print(type(t2))\n",
    "print(t_singleton);\n",
    "type(t_empty)"
   ]
  },
  {
   "cell_type": "markdown",
   "metadata": {},
   "source": [
    "Except for the case of the empty tuple, it is really the commas, not the parentheses, that tell Python it is a tuple."
   ]
  },
  {
   "cell_type": "markdown",
   "metadata": {},
   "source": [
    "## Dictionary\n",
    "Python's dictionaries are hash tables, and consists of key-value pairs.  \n",
    "Dictionaries are enclosed by curly braces '{' '}' and values can be assigned and accessed like a dictionary/hash table."
   ]
  },
  {
   "cell_type": "code",
   "execution_count": null,
   "metadata": {
    "collapsed": true
   },
   "outputs": [],
   "source": [
    "dict1 = {'name':'Women Who Code Singapore', \n",
    "        'org':'WWCode', \n",
    "        'city':'Singapore',\n",
    "        'members':1260}\n",
    "print(dict1['org'])\n",
    "type(dict1)"
   ]
  },
  {
   "cell_type": "markdown",
   "metadata": {},
   "source": [
    "#### Reference\n",
    "https://www.tutorialspoint.com/python/python_variable_types.htm"
   ]
  }
 ],
 "metadata": {
  "kernelspec": {
   "display_name": "Python 3",
   "language": "python",
   "name": "python3"
  },
  "language_info": {
   "codemirror_mode": {
    "name": "ipython",
    "version": 3
   },
   "file_extension": ".py",
   "mimetype": "text/x-python",
   "name": "python",
   "nbconvert_exporter": "python",
   "pygments_lexer": "ipython3",
   "version": "3.6.0"
  }
 },
 "nbformat": 4,
 "nbformat_minor": 2
}
