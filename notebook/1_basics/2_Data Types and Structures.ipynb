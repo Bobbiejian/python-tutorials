{
 "cells": [
  {
   "cell_type": "markdown",
   "metadata": {},
   "source": [
    "# Data Types\n",
    "Everything in Python is an object.\n",
    "Python objects do not need explicit declaration"
   ]
  },
  {
   "cell_type": "code",
   "execution_count": null,
   "metadata": {
    "collapsed": true
   },
   "outputs": [],
   "source": [
    "count = 100\n",
    "type(count)"
   ]
  },
  {
   "cell_type": "code",
   "execution_count": null,
   "metadata": {
    "collapsed": true
   },
   "outputs": [],
   "source": [
    "meters = 1.2\n",
    "type(meters)"
   ]
  },
  {
   "cell_type": "code",
   "execution_count": null,
   "metadata": {
    "collapsed": true
   },
   "outputs": [],
   "source": [
    "name = \"Women Who Code\"\n",
    "type(name)"
   ]
  },
  {
   "cell_type": "code",
   "execution_count": null,
   "metadata": {
    "collapsed": true
   },
   "outputs": [],
   "source": [
    "WWCodeRocks = True\n",
    "type(WWCodeRocks)"
   ]
  },
  {
   "cell_type": "code",
   "execution_count": null,
   "metadata": {},
   "outputs": [],
   "source": [
    "pi = 3.14J\n",
    "print(pi)\n",
    "type(pi)"
   ]
  },
  {
   "cell_type": "markdown",
   "metadata": {},
   "source": [
    "### None Type\n",
    "The None type represents a null object.  \n",
    "None is the default return value of a Python function"
   ]
  },
  {
   "cell_type": "code",
   "execution_count": null,
   "metadata": {},
   "outputs": [],
   "source": [
    "ret = print('None returned')\n",
    "type(ret)"
   ]
  },
  {
   "cell_type": "markdown",
   "metadata": {},
   "source": [
    "## Change data type"
   ]
  },
  {
   "cell_type": "code",
   "execution_count": null,
   "metadata": {},
   "outputs": [],
   "source": [
    "X = int('ABCD', 16)\n",
    "print(X)\n",
    "type(X)"
   ]
  },
  {
   "cell_type": "markdown",
   "metadata": {},
   "source": [
    "## Multiple Assignment"
   ]
  },
  {
   "cell_type": "markdown",
   "metadata": {},
   "source": [
    "Python allows assigning a single value to several variables simultaneously."
   ]
  },
  {
   "cell_type": "code",
   "execution_count": null,
   "metadata": {
    "collapsed": true
   },
   "outputs": [],
   "source": [
    "I = luv = U = True\n",
    "print(\"All three variables: I luv U are\")\n",
    "print(I and luv and U)"
   ]
  },
  {
   "cell_type": "code",
   "execution_count": null,
   "metadata": {
    "collapsed": true
   },
   "outputs": [],
   "source": [
    "b, f, country = True, 2.0, \"Singapore\"\n",
    "print(str(b) + ' ' + country)\n",
    "f"
   ]
  },
  {
   "cell_type": "markdown",
   "metadata": {},
   "source": [
    "## Delete assignment\n",
    "As Python allows manual 'garbage collection' to delete a variable"
   ]
  },
  {
   "cell_type": "code",
   "execution_count": null,
   "metadata": {},
   "outputs": [],
   "source": [
    "del f\n",
    "print(f)"
   ]
  },
  {
   "cell_type": "markdown",
   "metadata": {},
   "source": [
    "# Collection types\n",
    "There's also a standard library module called collections that provides more specialized collection types other than the built-in types below.\n"
   ]
  },
  {
   "cell_type": "markdown",
   "metadata": {},
   "source": [
    "## Strings\n",
    "Strings are a continuous set of characters represented by quotation marks."
   ]
  },
  {
   "cell_type": "code",
   "execution_count": null,
   "metadata": {},
   "outputs": [],
   "source": [
    "a_string = 'Hello' + ' ' + \"Women Who Code!\"\n",
    "print(a_string)\n",
    "print(\"str[0]  :\" + a_string[0])\n",
    "print(\"str[2:5]:\" + a_string[2:5]) # Python speak: slicing\n",
    "print(\"str[2:] :\" + a_string[2:])\n",
    "print(\"str * 2 :\" + a_string*2)\n",
    "print('''Triple quotes can\n",
    "span multiple lines''')"
   ]
  },
  {
   "cell_type": "markdown",
   "metadata": {},
   "source": [
    "## Tuples\n",
    "Tuples are collection of arbitrary objects. Equivalent to records or structs in other languages.  \n",
    "Tuples are enclosed in parentheses ( ( ) ) and cannot be updated."
   ]
  },
  {
   "cell_type": "code",
   "execution_count": null,
   "metadata": {
    "collapsed": true
   },
   "outputs": [],
   "source": [
    "t1 = ( \"WWCode\", 100000 , 0.5 ) # org name, members, proportion of engineers\n",
    "t2 = 'Singapore', 1160.5\n",
    "t_singleton = ('We',) # singleton\n",
    "t_empty = ()\n",
    "print(type(t1)); print(type(t2))\n",
    "print(t_singleton);\n",
    "type(t_empty)"
   ]
  },
  {
   "cell_type": "markdown",
   "metadata": {},
   "source": [
    "Except for the case of the empty tuple, it is really the commas, not the parentheses, that tell Python it is a tuple."
   ]
  },
  {
   "cell_type": "markdown",
   "metadata": {},
   "source": [
    "## Mutable object types:\n",
    "Some collection classes are mutable. The methods that add, subtract, or rearrange their members in place, and don’t return a specific item, never return the collection instance itself but **None**.\n",
    "## Lists\n",
    "Lists in Python contains items separated by commans and enclosed within square brackets, '[' ']'.  \n",
    "Lists are highly flexible, and are like mutable tuples.  \n",
    "Values stored in a list can be accessed using the slice operator ([] and [:])"
   ]
  },
  {
   "cell_type": "code",
   "execution_count": null,
   "metadata": {
    "collapsed": true
   },
   "outputs": [],
   "source": [
    "list = [ \"WWCode\", 786 , 2.23, 'singapore', 70.2 ]\n",
    "print(list[0:3])\n",
    "type(list)"
   ]
  },
  {
   "cell_type": "markdown",
   "metadata": {},
   "source": [
    "## Dictionary\n",
    "Python's dictionaries are hash tables, and consists of key-value pairs.  \n",
    "Dictionaries are enclosed by curly braces '{' '}' and values can be assigned and accessed like a dictionary/hash table.  \n",
    "Order of the elements is not maintained in a dictionary.  "
   ]
  },
  {
   "cell_type": "code",
   "execution_count": null,
   "metadata": {},
   "outputs": [],
   "source": [
    "dict1 = {'name':'Women Who Code Singapore', \n",
    "        'org':'WWCode', \n",
    "        'city':'Singapore',\n",
    "        'members':1260}\n",
    "print(dict1['org'])\n",
    "type(dict1)"
   ]
  },
  {
   "cell_type": "markdown",
   "metadata": {},
   "source": [
    "## Sets\n",
    "Sets are a methematical concept, they are a lot like dictionaries with keys but no corresponding values.  \n",
    "Sets are enclosed by curly braces, elements seperated by comma, '{','}'.  \n",
    "Sets do not support indexing or slicing, and do not have inherent order.  "
   ]
  },
  {
   "cell_type": "code",
   "execution_count": null,
   "metadata": {},
   "outputs": [],
   "source": [
    "wwcode_asia_networks = {'Bangalore','Beijing','Chennai','Delhi','Gujarat','Hong Kong','Kuala Lumpur','Manila','Pune','Rajasthan','Shanghai','Singapore','Taipei','Tel-Aviv','Tokyo'}\n",
    "type(wwcode_asia_networks)"
   ]
  },
  {
   "cell_type": "markdown",
   "metadata": {},
   "source": [
    "#### Reference\n",
    "https://www.tutorialspoint.com/python/python_variable_types.htm"
   ]
  }
 ],
 "metadata": {
  "kernelspec": {
   "display_name": "Python 3",
   "language": "python",
   "name": "python3"
  },
  "language_info": {
   "codemirror_mode": {
    "name": "ipython",
    "version": 3
   },
   "file_extension": ".py",
   "mimetype": "text/x-python",
   "name": "python",
   "nbconvert_exporter": "python",
   "pygments_lexer": "ipython3",
   "version": "3.6.3"
  }
 },
 "nbformat": 4,
 "nbformat_minor": 2
}
