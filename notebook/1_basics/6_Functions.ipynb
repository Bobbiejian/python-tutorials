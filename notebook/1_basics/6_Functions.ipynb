{
 "cells": [
  {
   "cell_type": "markdown",
   "metadata": {},
   "source": [
    "# Functions\n",
    "Functions are helpful to define often use sections of code, and it makes the codes cleaner to read and easier to code.\n",
    "\n",
    "**def** defines the name and the function"
   ]
  },
  {
   "cell_type": "code",
   "execution_count": null,
   "metadata": {},
   "outputs": [],
   "source": [
    "def print_function():\n",
    "    print(\"Print\")\n",
    "\n",
    "print_function()"
   ]
  },
  {
   "cell_type": "markdown",
   "metadata": {},
   "source": [
    "## Function with parameter"
   ]
  },
  {
   "cell_type": "code",
   "execution_count": null,
   "metadata": {},
   "outputs": [],
   "source": [
    "def print_function(str):\n",
    "    print(str)\n",
    "\n",
    "print_function(\"I want to print this.\")"
   ]
  },
  {
   "cell_type": "markdown",
   "metadata": {},
   "source": [
    "### Parameter with default values"
   ]
  },
  {
   "cell_type": "code",
   "execution_count": null,
   "metadata": {},
   "outputs": [],
   "source": [
    "def print_function(str=\"No string passed.\"):\n",
    "    print(str)\n",
    "\n",
    "print_function(\"I want to print this.\")\n",
    "print_function()"
   ]
  },
  {
   "cell_type": "markdown",
   "metadata": {},
   "source": [
    "## Return value"
   ]
  },
  {
   "cell_type": "code",
   "execution_count": null,
   "metadata": {},
   "outputs": [],
   "source": [
    "def double(str):\n",
    "    return(str*2)\n",
    "\n",
    "retVal = double(\"Double this string.\")\n",
    "retVal"
   ]
  },
  {
   "cell_type": "markdown",
   "metadata": {},
   "source": [
    "### Return multiple values\n",
    "Python function returns multiple statements"
   ]
  },
  {
   "cell_type": "code",
   "execution_count": null,
   "metadata": {},
   "outputs": [],
   "source": [
    "def title_upper_case(str1, str2):\n",
    "    ret_str1 = str1.title()\n",
    "    ret_str2 = str2.upper()\n",
    "    return ret_str1, ret_str2\n",
    "\n",
    "retStr1, retStr2 = title_upper_case(\"hello\", \"world!\")\n",
    "print(retStr1 + ' ' + retStr2)"
   ]
  },
  {
   "cell_type": "markdown",
   "metadata": {},
   "source": [
    "#### References:\n",
    "https://www.learnpython.org/en/Functions"
   ]
  }
 ],
 "metadata": {
  "kernelspec": {
   "display_name": "Python 3",
   "language": "python",
   "name": "python3"
  },
  "language_info": {
   "codemirror_mode": {
    "name": "ipython",
    "version": 3
   },
   "file_extension": ".py",
   "mimetype": "text/x-python",
   "name": "python",
   "nbconvert_exporter": "python",
   "pygments_lexer": "ipython3",
   "version": "3.6.0"
  }
 },
 "nbformat": 4,
 "nbformat_minor": 2
}
