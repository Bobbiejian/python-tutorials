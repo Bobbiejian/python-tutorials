{
 "cells": [
  {
   "cell_type": "markdown",
   "metadata": {},
   "source": [
    "# Functions\n",
    "Functions are helpful to define often use sections of code, and it makes the codes cleaner to read and easier to code.\n",
    "\n",
    "**def** defines the name and the function"
   ]
  },
  {
   "cell_type": "code",
   "execution_count": null,
   "metadata": {
    "collapsed": true
   },
   "outputs": [],
   "source": [
    "def print_function():\n",
    "    print(\"Print\")\n",
    "\n",
    "print_function()"
   ]
  },
  {
   "cell_type": "markdown",
   "metadata": {},
   "source": [
    "## Function with parameter"
   ]
  },
  {
   "cell_type": "code",
   "execution_count": null,
   "metadata": {
    "collapsed": true
   },
   "outputs": [],
   "source": [
    "def print_function(str):\n",
    "    print(str)\n",
    "\n",
    "print_function(\"I want to print this.\")"
   ]
  },
  {
   "cell_type": "markdown",
   "metadata": {},
   "source": [
    "### Parameter with default values"
   ]
  },
  {
   "cell_type": "code",
   "execution_count": null,
   "metadata": {
    "collapsed": true
   },
   "outputs": [],
   "source": [
    "def print_function(str=\"No string passed.\"):\n",
    "    print(str)\n",
    "\n",
    "print_function(\"I want to print this.\")\n",
    "print_function()"
   ]
  },
  {
   "cell_type": "markdown",
   "metadata": {},
   "source": [
    "### Positional arguments"
   ]
  },
  {
   "cell_type": "code",
   "execution_count": null,
   "metadata": {
    "collapsed": true
   },
   "outputs": [],
   "source": [
    "def print_function(str1, str2):\n",
    "    print(str1)\n",
    "    print(str2)\n",
    "\n",
    "print_function(\"Print first line.\", \"Print 2nd line.\")"
   ]
  },
  {
   "cell_type": "markdown",
   "metadata": {},
   "source": [
    "### Keyword arguments"
   ]
  },
  {
   "cell_type": "code",
   "execution_count": null,
   "metadata": {
    "collapsed": true
   },
   "outputs": [],
   "source": [
    "def print_function(str1, str2, str3=\"3rd line.\", str4=\"4th Line.\"):\n",
    "    print(str1)\n",
    "    print(str2)\n",
    "    print(str3)\n",
    "    print(str4)\n",
    "\n",
    "print_function(\"Print first line.\", \"Print 2nd line.\", str4 = \"Print 4th line.\")"
   ]
  },
  {
   "cell_type": "markdown",
   "metadata": {},
   "source": [
    "### Arbitrary argument list"
   ]
  },
  {
   "cell_type": "code",
   "execution_count": null,
   "metadata": {
    "collapsed": true
   },
   "outputs": [],
   "source": [
    "def print_function(*strs):\n",
    "    print(strs[0])\n",
    "    print(strs[1])\n",
    "    print(strs[2])\n",
    "\n",
    "print_function(\"Print 1st line.\", \"Print 2nd line.\", \"Print 3rd line.\")"
   ]
  },
  {
   "cell_type": "markdown",
   "metadata": {},
   "source": [
    "### Arbitrary keyword argument dictionary"
   ]
  },
  {
   "cell_type": "code",
   "execution_count": null,
   "metadata": {
    "collapsed": true
   },
   "outputs": [],
   "source": [
    "def print_function(**kwstrs):\n",
    "    print(kwstrs.get('str1'))\n",
    "    print(kwstrs.get('str2'))\n",
    "    print(kwstrs.get('str3'))\n",
    "\n",
    "print_function(str2=\"Print 2nd line.\", str3=\"Print 3rd line.\", str1=\"Print 1st line.\")"
   ]
  },
  {
   "cell_type": "markdown",
   "metadata": {},
   "source": [
    "## Return value"
   ]
  },
  {
   "cell_type": "code",
   "execution_count": null,
   "metadata": {
    "collapsed": true
   },
   "outputs": [],
   "source": [
    "def double(str):\n",
    "    return(str*2)\n",
    "\n",
    "retVal = double(\"Double this string.\")\n",
    "retVal"
   ]
  },
  {
   "cell_type": "markdown",
   "metadata": {},
   "source": [
    "### Return multiple values\n",
    "Python function returns multiple statements.  \n",
    "This is also called unpacking"
   ]
  },
  {
   "cell_type": "code",
   "execution_count": null,
   "metadata": {
    "collapsed": true
   },
   "outputs": [],
   "source": [
    "def title_upper_case(str1, str2):\n",
    "    ret_str1 = str1.title()\n",
    "    ret_str2 = str2.upper()\n",
    "    return ret_str1, ret_str2\n",
    "\n",
    "retStr1, retStr2 = title_upper_case(\"hello\", \"world!\")\n",
    "print(retStr1 + ' ' + retStr2)\n",
    "\n",
    "retStrs = title_upper_case(\"hello\", \"world!\")\n",
    "print(retStrs[0] + ' ' + retStrs[1])"
   ]
  },
  {
   "cell_type": "markdown",
   "metadata": {},
   "source": [
    "### Multiple return statements"
   ]
  },
  {
   "cell_type": "code",
   "execution_count": null,
   "metadata": {
    "collapsed": true
   },
   "outputs": [],
   "source": [
    "def title_upper_case(title_str=None, upper_str=None):\n",
    "    # Title case\n",
    "    if title_str is not None:\n",
    "        titled_str = title_str.title()\n",
    "        if upper_str == None:\n",
    "            return titled_str\n",
    "    \n",
    "    # Uptter case\n",
    "    uppered_str = upper_str.upper()\n",
    "    \n",
    "    if title_str is None:\n",
    "        return uppered_str\n",
    "    return titled_str, uppered_str\n",
    "\n",
    "retStr1 = title_upper_case(\"title this\")\n",
    "retStr2 = title_upper_case(upper_str=\"upper this\")\n",
    "retStr3 = title_upper_case(\"title this\", \"upper this\")\n",
    "print(retStr1)\n",
    "print(retStr2)\n",
    "print(retStr3)"
   ]
  },
  {
   "cell_type": "markdown",
   "metadata": {},
   "source": [
    "### Ignore return variable"
   ]
  },
  {
   "cell_type": "code",
   "execution_count": null,
   "metadata": {
    "collapsed": true
   },
   "outputs": [],
   "source": [
    "filename = 'foobar.txt'\n",
    "basename, __, ext = filename.rpartition('.')\n",
    "print(\"basename: \" + basename)\n",
    "print(\"extension: \" + ext)"
   ]
  },
  {
   "cell_type": "markdown",
   "metadata": {},
   "source": [
    "# Built-in functions\n",
    "List of built-in functions:\n",
    "\n",
    "    abs()    dict()    help()    min()    setattr()  \n",
    "    all()    dir()    hex()    next()    slice()  \n",
    "    any()    divmod()    id()    object()    sorted()  \n",
    "    ascii()    enumerate()    input()    oct()    staticmethod()  \n",
    "    bin()    eval()    int()    open()    str()  \n",
    "    bool()    exec()    isinstance()    ord()    sum()  \n",
    "    bytearray()    filter()    issubclass()    pow()    super()  \n",
    "    bytes()    float()    iter()    print()    tuple()  \n",
    "    callable()    format()    len()    property()    type()  \n",
    "    chr()    frozenset()    list()    range()    vars()  \n",
    "    classmethod()    getattr()    locals()    repr()    zip()  \n",
    "    compile()    globals()    map()    reversed()    \\__import\\__()  \n",
    "    complex()    hasattr()    max()    round()   \n",
    "    delattr()    hash()    memoryview()    set()   \t "
   ]
  },
  {
   "cell_type": "markdown",
   "metadata": {},
   "source": [
    "#### References:\n",
    "https://www.learnpython.org/en/Functions  \n",
    "http://docs.python-guide.org/en/latest/writing/style/  \n",
    "https://docs.python.org/3/library/functions.html#built-in-funcs  "
   ]
  }
 ],
 "metadata": {
  "kernelspec": {
   "display_name": "Python 3",
   "language": "python",
   "name": "python3"
  },
  "language_info": {
   "codemirror_mode": {
    "name": "ipython",
    "version": 3
   },
   "file_extension": ".py",
   "mimetype": "text/x-python",
   "name": "python",
   "nbconvert_exporter": "python",
   "pygments_lexer": "ipython3",
   "version": "3.6.1"
  }
 },
 "nbformat": 4,
 "nbformat_minor": 2
}
