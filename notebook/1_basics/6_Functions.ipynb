{
 "cells": [
  {
   "cell_type": "markdown",
   "metadata": {},
   "source": [
    "# Functions\n",
    "Functions are helpful to define often use sections of code, and it makes the codes cleaner to read and easier to code.\n",
    "\n",
    "**def** defines the name and the function"
   ]
  },
  {
   "cell_type": "code",
   "execution_count": 6,
   "metadata": {},
   "outputs": [
    {
     "name": "stdout",
     "output_type": "stream",
     "text": [
      "Print\n"
     ]
    }
   ],
   "source": [
    "def print_function():\n",
    "    print(\"Print\")\n",
    "\n",
    "print_function()"
   ]
  },
  {
   "cell_type": "markdown",
   "metadata": {},
   "source": [
    "## Function with parameter"
   ]
  },
  {
   "cell_type": "code",
   "execution_count": 2,
   "metadata": {},
   "outputs": [
    {
     "name": "stdout",
     "output_type": "stream",
     "text": [
      "I want to print this.\n"
     ]
    }
   ],
   "source": [
    "def print_function(str):\n",
    "    print(str)\n",
    "\n",
    "print_function(\"I want to print this.\")"
   ]
  },
  {
   "cell_type": "markdown",
   "metadata": {},
   "source": [
    "## Parameter with default values"
   ]
  },
  {
   "cell_type": "code",
   "execution_count": 3,
   "metadata": {},
   "outputs": [
    {
     "name": "stdout",
     "output_type": "stream",
     "text": [
      "I want to print this.\n",
      "No string passed.\n"
     ]
    }
   ],
   "source": [
    "def print_function(str=\"No string passed.\"):\n",
    "    print(str)\n",
    "\n",
    "print_function(\"I want to print this.\")\n",
    "print_function()"
   ]
  },
  {
   "cell_type": "markdown",
   "metadata": {},
   "source": [
    "## Recursive function"
   ]
  },
  {
   "cell_type": "code",
   "execution_count": 4,
   "metadata": {},
   "outputs": [
    {
     "name": "stdout",
     "output_type": "stream",
     "text": [
      "*\n",
      "**\n",
      "****\n",
      "********\n",
      "****************\n",
      "********************************\n",
      "****************************************************************\n"
     ]
    }
   ],
   "source": [
    "def print_function(str):\n",
    "    if(len(str) > 79):\n",
    "        return\n",
    "    print(str)\n",
    "    print_function(str*2)\n",
    "\n",
    "print_function('*')"
   ]
  },
  {
   "cell_type": "code",
   "execution_count": 5,
   "metadata": {},
   "outputs": [
    {
     "data": {
      "text/plain": [
       "'Double this string.Double this string.'"
      ]
     },
     "execution_count": 5,
     "metadata": {},
     "output_type": "execute_result"
    }
   ],
   "source": [
    "## Return value\n",
    "def double(str):\n",
    "    return(str*2)\n",
    "\n",
    "retVal = double(\"Double this string.\")\n",
    "retVal"
   ]
  },
  {
   "cell_type": "markdown",
   "metadata": {},
   "source": [
    "#### References:\n",
    "https://www.learnpython.org/en/Functions"
   ]
  }
 ],
 "metadata": {
  "kernelspec": {
   "display_name": "Python 3",
   "language": "python",
   "name": "python3"
  },
  "language_info": {
   "codemirror_mode": {
    "name": "ipython",
    "version": 3
   },
   "file_extension": ".py",
   "mimetype": "text/x-python",
   "name": "python",
   "nbconvert_exporter": "python",
   "pygments_lexer": "ipython3",
   "version": "3.6.0"
  }
 },
 "nbformat": 4,
 "nbformat_minor": 2
}
