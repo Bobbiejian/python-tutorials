{
 "cells": [
  {
   "cell_type": "markdown",
   "metadata": {},
   "source": [
    "# Syntax\n",
    "## Parser\n",
    "Python is a scripting language, i.e. it is intepreted by a parser."
   ]
  },
  {
   "cell_type": "markdown",
   "metadata": {},
   "source": [
    "## Line Structure\n",
    "The format of each line lends itself to the Python syntax.\n",
    "\n",
    "Every logical line is terminated by the **newline** token."
   ]
  },
  {
   "cell_type": "code",
   "execution_count": 1,
   "metadata": {
    "collapsed": true
   },
   "outputs": [],
   "source": [
    "x = 1\n"
   ]
  },
  {
   "cell_type": "markdown",
   "metadata": {},
   "source": [
    "## Empty lines\n",
    "Python interpreter ignores lines containing only spaces, tabs, formfeeds or comments. It is treated as a blank line."
   ]
  },
  {
   "cell_type": "code",
   "execution_count": 4,
   "metadata": {
    "collapsed": true
   },
   "outputs": [],
   "source": [
    "# comment\n",
    "    \n",
    "    # more comments\n",
    "\t"
   ]
  },
  {
   "cell_type": "markdown",
   "metadata": {},
   "source": [
    "A Comment begins with a hash character (#). All characters after the # character up to the end of the line is part of the comment and the Python interpreter ignores them.\n",
    "\n",
    "Note that Python has no multi-lines or block comments."
   ]
  },
  {
   "cell_type": "markdown",
   "metadata": {},
   "source": [
    "## Joining two lines\n",
    "When a single line of codes is too long, it can be broken into two or more physical lines using the backslash (\\) character."
   ]
  },
  {
   "cell_type": "code",
   "execution_count": 5,
   "metadata": {},
   "outputs": [
    {
     "name": "stdout",
     "output_type": "stream",
     "text": [
      "This is an example of line joining\n"
     ]
    }
   ],
   "source": [
    "variable_number_one   = 1\n",
    "variable_number_two   = '2'\n",
    "if variable_number_one == 1 \\\n",
    "    and variable_number_one < 2 \\\n",
    "    and variable_number_two == '2':\n",
    "    print( \"This is an example of line joining\" )"
   ]
  },
  {
   "cell_type": "markdown",
   "metadata": {},
   "source": [
    "## Multiple statements on a Single line\n",
    "You can join two statements in a singale line by using a semicolon (;) to differentiate the two."
   ]
  },
  {
   "cell_type": "code",
   "execution_count": 7,
   "metadata": {},
   "outputs": [
    {
     "name": "stdout",
     "output_type": "stream",
     "text": [
      "Statement 1\n",
      "Statement 2\n"
     ]
    }
   ],
   "source": [
    "str1 = \"Statement 1\"; str2 = \"Statement 2\"; print(str1); print(str2)"
   ]
  },
  {
   "cell_type": "markdown",
   "metadata": {},
   "source": [
    "## Indentation\n",
    "Whitespaces (spaces and tabs) are used to define blocks of codes. Where in other languages such as R or C/C++ curly braces ( { } ) are used."
   ]
  },
  {
   "cell_type": "code",
   "execution_count": 8,
   "metadata": {},
   "outputs": [
    {
     "name": "stdout",
     "output_type": "stream",
     "text": [
      "This statement\n",
      "and this has the same indentation\n"
     ]
    }
   ],
   "source": [
    "if x > 0:\n",
    "    print(\"This statement\")\n",
    "    print(\"and this has the same indentation\")"
   ]
  },
  {
   "cell_type": "markdown",
   "metadata": {},
   "source": [
    "The number of whitespaces is not fixed. But all statements whithin the block must be indented the same amount of spaces or tabls or spaces and tabs."
   ]
  },
  {
   "cell_type": "code",
   "execution_count": 10,
   "metadata": {},
   "outputs": [
    {
     "name": "stdout",
     "output_type": "stream",
     "text": [
      "x is greater than zero\n",
      "x is single digit\n",
      "This statement has 4 spaces and a single tab indentation\n"
     ]
    }
   ],
   "source": [
    "if x > 0:\n",
    "    print(\"x is greater than zero\")\n",
    "    if x < 10:\n",
    "    \tprint (\"x is single digit\")\n",
    "    \tprint (\"This statement has 4 spaces and a single tab indentation\")"
   ]
  },
  {
   "cell_type": "markdown",
   "metadata": {},
   "source": [
    "# Style Guide\n",
    " * Use 4 spaces per indentation and no tabs.\n",
    " * Do not mix tabs and spaces. Tabs create confusion and it is recommended to use only spaces.\n",
    " * Maximum line length : 79 characters which help users with a small display.\n",
    " * Use blank lines to separate top-level function and class definitions and single blank line to separate methods definitions inside a class and larger blocks of code inside functions.\n",
    " * When possible, put inline comments (should be complete sentences).\n",
    " * Use spaces around expressions and statements."
   ]
  },
  {
   "cell_type": "markdown",
   "metadata": {},
   "source": [
    "# Reserve Words\n",
    "The following identifiers are used as reserved words of the language, and cannot be used as ordinary identifiers.\n",
    "\n",
    "\tFalse\tclass\tfinally\treturn\tcontinue\tyield  \t\n",
    "\tTrue\tglobal\tlambda\ttry\tnonlocal\timport\t\t\n",
    "\tNone\tdef\tfrom\twhile\tand\tdel\twith \n",
    "\tas\tif\telif\telse\tis\tor\tnot\tfor\tin  \n",
    "\texcept\tpass\tassert\tbreak\traise\tasync\twait"
   ]
  },
  {
   "cell_type": "markdown",
   "metadata": {},
   "source": [
    "#### References\n",
    "https://www.w3resource.com/python/python-syntax.php"
   ]
  }
 ],
 "metadata": {
  "kernelspec": {
   "display_name": "Python 3",
   "language": "python",
   "name": "python3"
  },
  "language_info": {
   "codemirror_mode": {
    "name": "ipython",
    "version": 3
   },
   "file_extension": ".py",
   "mimetype": "text/x-python",
   "name": "python",
   "nbconvert_exporter": "python",
   "pygments_lexer": "ipython3",
   "version": "3.6.0"
  }
 },
 "nbformat": 4,
 "nbformat_minor": 2
}
