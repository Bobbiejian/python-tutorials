{
 "cells": [
  {
   "cell_type": "markdown",
   "metadata": {},
   "source": [
    "# Conditions and Operators\n",
    "For an **expression** 4+5=9, 4 and 5 are called operands and + is called an operator. \n",
    "## Arithmetic Operations"
   ]
  },
  {
   "cell_type": "code",
   "execution_count": null,
   "metadata": {
    "collapsed": true
   },
   "outputs": [],
   "source": [
    "x = 1 + 2 # Addition\n",
    "y = 3 - 4 # Subtraction\n",
    "z = 5 * 6 # Multiplication\n",
    "a = z / y # Division\n",
    "b = z % x # Modulus\n",
    "c = y ** x # Exponent\n",
    "d = c // x # Floor Division\n",
    "print(\"x:\" + str(x) + \" y:\" + str(y) + \" z:\" + str(z) + \n",
    "      \" a:\" + str(a) + \" b:\" + str(b) + \" c:\" + str(c) + \" d:\" + str(d))"
   ]
  },
  {
   "cell_type": "markdown",
   "metadata": {},
   "source": [
    "## Boolean Operators or Comparison Operators"
   ]
  },
  {
   "cell_type": "code",
   "execution_count": null,
   "metadata": {
    "collapsed": true
   },
   "outputs": [],
   "source": [
    "print(a == b) # equals\n",
    "print(a != b) # not equals\n",
    "print(a > b)  # greater than\n",
    "print(a < b)  # lesser than\n",
    "print(a >= b) # greater than or equal\n",
    "print(a <= b) # lesser than or equal"
   ]
  },
  {
   "cell_type": "markdown",
   "metadata": {},
   "source": [
    "## Assignment Operators"
   ]
  },
  {
   "cell_type": "code",
   "execution_count": null,
   "metadata": {
    "collapsed": true
   },
   "outputs": [],
   "source": [
    "i = 100;  print(i)\n",
    "i += 2; print(i)\n",
    "i -= 3; print(i)\n",
    "i *= 4; print(i)\n",
    "i /= 5; print(i)\n",
    "i %= 6; print(i)\n",
    "i **= 7; print(i)\n",
    "i //= 2; print(i)"
   ]
  },
  {
   "cell_type": "markdown",
   "metadata": {},
   "source": [
    "## Bitwise Operators"
   ]
  },
  {
   "cell_type": "code",
   "execution_count": null,
   "metadata": {
    "collapsed": true
   },
   "outputs": [],
   "source": [
    "j = 60; k = 13; \n",
    "print(\"j = 00{0:b} k = 00{0:b}\".format(j,k))\n",
    "print(\"j = 0000{0:b} \".format(j & k) + str(j & k)) # AND\n",
    "print(\"j = 00{0:b} \".format(j | k) + str(j | k))   # OR\n",
    "print(\"j = 00{0:b} \".format(j ^ k) + str(j ^ k))   # XOR\n",
    "print(\"j =  {0:b} \".format( ~j ) + str( ~j ))      # Ones complement, i.e. flipping every bit\n",
    "print(\"j = {0:b} \".format(j<<2) + str( j<<2 ))     # Left Shift\n",
    "print(\"j = 0000{0:b} \".format(j>>2) + str( j>>2 )) # Right Shift"
   ]
  },
  {
   "cell_type": "markdown",
   "metadata": {},
   "source": [
    "## Logical Operators"
   ]
  },
  {
   "cell_type": "code",
   "execution_count": null,
   "metadata": {
    "collapsed": true
   },
   "outputs": [],
   "source": [
    "a_string = \"Women Who Code\"\n",
    "print(\"Women\" in a_string)\n",
    "print(\"Men\" not in a_string)\n",
    "print(len(\"Women Who Code\") is len(a_string))\n",
    "print(len(\"Hello World!\") is not len(a_string))"
   ]
  },
  {
   "cell_type": "markdown",
   "metadata": {},
   "source": [
    "## Comparing null value:"
   ]
  },
  {
   "cell_type": "code",
   "execution_count": null,
   "metadata": {
    "collapsed": true
   },
   "outputs": [],
   "source": [
    "none_type = None\n",
    "none_type is None"
   ]
  },
  {
   "cell_type": "markdown",
   "metadata": {},
   "source": [
    "## Collection type operations"
   ]
  },
  {
   "cell_type": "code",
   "execution_count": null,
   "metadata": {
    "collapsed": true
   },
   "outputs": [],
   "source": [
    "'Slicing a string'[6:11]"
   ]
  },
  {
   "cell_type": "code",
   "execution_count": null,
   "metadata": {
    "collapsed": true
   },
   "outputs": [],
   "source": [
    "# Slice position 3 to 9 every 2 step\n",
    "'0123456789'[3:9:2]"
   ]
  },
  {
   "cell_type": "code",
   "execution_count": null,
   "metadata": {
    "collapsed": true
   },
   "outputs": [],
   "source": [
    "# accessing items from end of collection\n",
    "'0123456789'[-1]"
   ]
  },
  {
   "cell_type": "code",
   "execution_count": null,
   "metadata": {
    "collapsed": true
   },
   "outputs": [],
   "source": [
    "# Most collection types could be sorted\n",
    "sorted('987654321')"
   ]
  },
  {
   "cell_type": "code",
   "execution_count": null,
   "metadata": {
    "collapsed": true
   },
   "outputs": [],
   "source": [
    "# any() returns True if any member of the collection is true\n",
    "any([0,1,2])"
   ]
  },
  {
   "cell_type": "code",
   "execution_count": null,
   "metadata": {
    "collapsed": true
   },
   "outputs": [],
   "source": [
    "# all() returns True if all the members are true\n",
    "all([0,1,2])"
   ]
  },
  {
   "cell_type": "markdown",
   "metadata": {},
   "source": [
    "### String specific operations"
   ]
  },
  {
   "cell_type": "code",
   "execution_count": null,
   "metadata": {
    "collapsed": true
   },
   "outputs": [],
   "source": [
    "print('Concat' + 'enation')\n",
    "print('Multiplication ' * 2)\n",
    "print('upper'.upper())\n",
    "print('Lower'.lower())\n",
    "print('capitalise'.capitalize())\n",
    "print('center'.center(48))\n",
    "print('ljust'.ljust(48))\n",
    "print('rjust'.rjust(48))\n",
    "print('find i'.find('i')) # return the lowest index where the given substring is found, -1 on failure\n",
    "print('index of i'.index('i')) # raises a ValueError exception on failure\n",
    "print('rfind i'.rfind('i')) # return the highest index of the given substring\n",
    "print(' join '.join(['list','of','strings']))\n",
    "print('split this string on passed space separator'.split(' '))\n",
    "print(\"\"\"split\n",
    "lines\"\"\".splitlines())\n",
    "print('partition'.partition('i')) # returns the first string, the separator, and the remaining string\n",
    "print('strip white  spaces'.strip()) # default is whitespace, or strip passed characters\n",
    "print('    left strip    '.lstrip())\n",
    "print('    right strip    '.rstrip())\n",
    "print('replace a with X'.replace('a','X'))\n",
    "print('Formats the string, x={:d}'.format(x))"
   ]
  },
  {
   "cell_type": "markdown",
   "metadata": {},
   "source": [
    "### Boolean string operations"
   ]
  },
  {
   "cell_type": "code",
   "execution_count": null,
   "metadata": {
    "collapsed": true
   },
   "outputs": [],
   "source": [
    "print('startswith'.startswith('start')) \n",
    "print('endswith'.endswith('endswith'))\n",
    "print('isalpha'.isalpha())\n",
    "print('isdigit'.isdigit())\n",
    "print('isalnum'.isalnum())"
   ]
  },
  {
   "cell_type": "markdown",
   "metadata": {},
   "source": [
    "### Dictionary Operations"
   ]
  },
  {
   "cell_type": "code",
   "execution_count": null,
   "metadata": {
    "collapsed": true
   },
   "outputs": [],
   "source": [
    "wwcodesg = {'name':'Women Who Code Singapore', \n",
    "                 'org':'WWCode', \n",
    "                 'city':'Singapore',\n",
    "                 'members':1260}\n",
    "print(wwcodesg.keys())\n",
    "print(wwcodesg.values())\n",
    "print(wwcodesg.items())\n",
    "print(wwcodesg.get('name'))\n",
    "print(wwcodesg.pop('org'))\n",
    "print(wwcodesg.setdefault('org', 'Women Who Code')) # acts like get, but also creates a new key-value pair in the dictionary if the key does not exist"
   ]
  },
  {
   "cell_type": "markdown",
   "metadata": {},
   "source": [
    "### Set operations"
   ]
  },
  {
   "cell_type": "code",
   "execution_count": null,
   "metadata": {
    "collapsed": true
   },
   "outputs": [],
   "source": [
    "wwcode_asia = {'Bangalore','Beijing','Chennai','Delhi','Gujarat','Hong Kong','Kuala Lumpur','Manila','Pune','Rajasthan','Shanghai','Singapore','Taipei','Tel-Aviv','Tokyo'}\n",
    "print('Singapore' in wwcode_asia)\n",
    "print({'Bangalore','Delhi','Gujarat'}.issubset(wwcode_asia))\n",
    "print({'Bangalore','Delhi','Gujarat'} <= wwcode_asia ) # subset or the same\n",
    "print({'Bangalore','Delhi','Gujarat'} < wwcode_asia ) # is subset\n",
    "print(wwcode_asia.issuperset({'Bangalore','Delhi','Gujarat'}))\n",
    "print(wwcode_asia >= {'Beijing','Hong Kong','Shanghai'})\n",
    "print(wwcode_asia > {'Beijing','Hong Kong','Shanghai'})\n",
    "print({'Singapore','Manila'}.union({'Kuala Lumpur'}))\n",
    "asean = {'Kuala Lumpur', 'Singapore', 'Manila'} | \\\n",
    "        {'Hanoi','Naypyidaw','Bangkok','Jakarta','Phnom Penh','Vientiane','Bandar Seri Begawan'} \n",
    "print(wwcode_asia.intersection(asean))\n",
    "wwcode_asean = wwcode_asia & asean # same as intersection\n",
    "print(asean.difference(wwcode_asean))\n",
    "print(wwcode_asia - asean) # same as difference\n",
    "print(asean.symmetric_difference(wwcode_asia)) # returns the elements of bosth sets without those in the intersection.\n",
    "print(asean ^ wwcode_asia ^ wwcode_asean) # same as symmetric_difference"
   ]
  },
  {
   "cell_type": "markdown",
   "metadata": {},
   "source": [
    "### Set Modifier Operations\n",
    "Set modifiers update the set's value(s) in place"
   ]
  },
  {
   "cell_type": "code",
   "execution_count": null,
   "metadata": {
    "collapsed": true
   },
   "outputs": [],
   "source": [
    "wwcode_asean.update({'Jakarta'}); print(wwcode_asean)\n",
    "wwcode_asean |= {'Johor'}; print(wwcode_asean) # same as update\n",
    "wwcode_asean.intersection_update(asean); print(wwcode_asean)\n",
    "wwcode_asean &= wwcode_asia; print(wwcode_asean) # same as intersection update\n",
    "asean.difference_update(wwcode_asean); print(asean)\n",
    "wwcode_asia -= asean; print(wwcode_asia) # same as difference update\n",
    "asean.symmetric_difference_update(wwcode_asean); print(asean)\n",
    "wwcode_asia ^= asean; print(wwcode_asia) # same as symmetric difference update\n",
    "wwcode_asean.add('Jakarta'); print(wwcode_asean)\n",
    "wwcode_asean.remove('Jakarta'); print(wwcode_asean)\n",
    "wwcode_asean.discard('Jakarta'); print(wwcode_asean) # does not return KeyError if element not found\n",
    "print(wwcode_asean.pop()) # removes and returns an arbitrary member from the set.\n",
    "wwcode_asean.clear(); print(wwcode_asean) # removes all elements"
   ]
  },
  {
   "cell_type": "markdown",
   "metadata": {},
   "source": [
    "# Conditional Statements\n",
    "## if-elif-else Statement"
   ]
  },
  {
   "cell_type": "code",
   "execution_count": null,
   "metadata": {
    "collapsed": true
   },
   "outputs": [],
   "source": [
    "if(i==1):\n",
    "    print(\"Happy\")"
   ]
  },
  {
   "cell_type": "code",
   "execution_count": null,
   "metadata": {
    "collapsed": true
   },
   "outputs": [],
   "source": [
    "if(i<1):\n",
    "    print(\"Happy\")\n",
    "elif(i==1.0):\n",
    "    print(\"Weekend\")"
   ]
  },
  {
   "cell_type": "code",
   "execution_count": null,
   "metadata": {
    "collapsed": true
   },
   "outputs": [],
   "source": [
    "if(i<1):\n",
    "    print(\"Happy\")\n",
    "elif(i!=1.0):\n",
    "    print(\"Weekend\")\n",
    "else:\n",
    "    print(\"Ahead!\")"
   ]
  },
  {
   "cell_type": "markdown",
   "metadata": {},
   "source": [
    "## try-except-raise Statements\n",
    "Try statements are useful when you know there are possibility of an error but you want to handle these errors and not stop the program."
   ]
  },
  {
   "cell_type": "code",
   "execution_count": null,
   "metadata": {
    "collapsed": true
   },
   "outputs": [],
   "source": [
    "while True:\n",
    "    try:\n",
    "        x = int(input(\"Please enter a number: \"))\n",
    "        break\n",
    "    except ValueError:\n",
    "        print(\"Oops!  That was not a valid number.  Try again...\")"
   ]
  },
  {
   "cell_type": "markdown",
   "metadata": {},
   "source": [
    "### pass in try statements\n",
    "Use pass to continue without performing an action.  \n",
    "An except clause may name multiple exceptions as a parenthesized tuple."
   ]
  },
  {
   "cell_type": "code",
   "execution_count": null,
   "metadata": {
    "collapsed": true
   },
   "outputs": [],
   "source": [
    "try:\n",
    "    print(Hello)\n",
    "except (RuntimeError, TypeError, NameError):\n",
    "    pass"
   ]
  },
  {
   "cell_type": "markdown",
   "metadata": {},
   "source": [
    "### raise in try statements"
   ]
  },
  {
   "cell_type": "code",
   "execution_count": null,
   "metadata": {
    "collapsed": true
   },
   "outputs": [],
   "source": [
    "try:\n",
    "    raise NameError('HiThere')\n",
    "except NameError:\n",
    "    print('An exception flew by!')"
   ]
  },
  {
   "cell_type": "code",
   "execution_count": null,
   "metadata": {
    "collapsed": true
   },
   "outputs": [],
   "source": [
    "try:\n",
    "    raise NameError('HiThere')\n",
    "except NameError:\n",
    "    print('An exception flew by!')\n",
    "    raise"
   ]
  },
  {
   "cell_type": "markdown",
   "metadata": {},
   "source": [
    "### else in try statements\n",
    "The try … except statement has an optional else clause, which, when present, must follow all except clauses.  \n",
    "It is useful for code that must be executed if the try clause does not raise an exception. "
   ]
  },
  {
   "cell_type": "code",
   "execution_count": null,
   "metadata": {
    "collapsed": true
   },
   "outputs": [],
   "source": [
    "arg = 'README.md'\n",
    "try:\n",
    "    f = open(arg, 'r')\n",
    "except OSError:\n",
    "    print('cannot open', arg)\n",
    "else:\n",
    "    print(arg, 'has', len(f.readlines()), 'lines')\n",
    "    f.close()"
   ]
  },
  {
   "cell_type": "markdown",
   "metadata": {},
   "source": [
    "### finaly in try statements\n",
    "A finally clause is always executed before leaving the try statement, whether an exception has occurred or not."
   ]
  },
  {
   "cell_type": "code",
   "execution_count": null,
   "metadata": {
    "collapsed": true
   },
   "outputs": [],
   "source": [
    "def divide(x, y):\n",
    "    try:\n",
    "        result = x / y\n",
    "    except ZeroDivisionError:\n",
    "        print(\"division by zero!\")\n",
    "    else:\n",
    "        print(\"result is\", result)\n",
    "    finally:\n",
    "        print(\"executing finally clause\")"
   ]
  },
  {
   "cell_type": "code",
   "execution_count": null,
   "metadata": {
    "collapsed": true
   },
   "outputs": [],
   "source": [
    "divide(2, 0)"
   ]
  },
  {
   "cell_type": "code",
   "execution_count": null,
   "metadata": {
    "collapsed": true
   },
   "outputs": [],
   "source": [
    "divide(4,2)"
   ]
  },
  {
   "cell_type": "code",
   "execution_count": null,
   "metadata": {
    "collapsed": true
   },
   "outputs": [],
   "source": [
    "divide(\"2\", \"1\")"
   ]
  },
  {
   "cell_type": "markdown",
   "metadata": {},
   "source": [
    "#### References\n",
    "https://www.learnpython.org/en/Conditions  \n",
    "https://www.tutorialspoint.com/python/python_basic_operators.htm  "
   ]
  }
 ],
 "metadata": {
  "kernelspec": {
   "display_name": "Python 3",
   "language": "python",
   "name": "python3"
  },
  "language_info": {
   "codemirror_mode": {
    "name": "ipython",
    "version": 3
   },
   "file_extension": ".py",
   "mimetype": "text/x-python",
   "name": "python",
   "nbconvert_exporter": "python",
   "pygments_lexer": "ipython3",
   "version": "3.6.3"
  }
 },
 "nbformat": 4,
 "nbformat_minor": 2
}
