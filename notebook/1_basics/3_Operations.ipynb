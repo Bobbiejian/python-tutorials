{
 "cells": [
  {
   "cell_type": "markdown",
   "metadata": {},
   "source": [
    "# Conditions and Operators\n",
    "For an **expression** 4+5=9, 4 and 5 are called **operands** and + is called an **operator**. \n",
    "## Arithmetic Operations"
   ]
  },
  {
   "cell_type": "code",
   "execution_count": 1,
   "metadata": {},
   "outputs": [
    {
     "name": "stdout",
     "output_type": "stream",
     "text": [
      "x:3 y:-1 z:30 a:-30.0 b:0 c:-1 d:-1\n"
     ]
    }
   ],
   "source": [
    "x = 1 + 2 # Addition\n",
    "y = 3 - 4 # Subtraction\n",
    "z = 5 * 6 # Multiplication\n",
    "a = z / y # Division\n",
    "b = z % x # Modulus\n",
    "c = y ** x # Exponent\n",
    "d = c // x # Floor Division\n",
    "print(\"x:\" + str(x) + \" y:\" + str(y) + \" z:\" + str(z) + \n",
    "      \" a:\" + str(a) + \" b:\" + str(b) + \" c:\" + str(c) + \" d:\" + str(d))"
   ]
  },
  {
   "cell_type": "markdown",
   "metadata": {},
   "source": [
    "## Boolean Operators or Comparison Operators"
   ]
  },
  {
   "cell_type": "code",
   "execution_count": 2,
   "metadata": {},
   "outputs": [
    {
     "name": "stdout",
     "output_type": "stream",
     "text": [
      "False\n",
      "True\n",
      "False\n",
      "True\n",
      "False\n",
      "True\n"
     ]
    }
   ],
   "source": [
    "print(a == b) # equals\n",
    "print(a != b) # not equals\n",
    "print(a > b)  # greater than\n",
    "print(a < b)  # lesser than\n",
    "print(a >= b) # greater than or equal\n",
    "print(a <= b) # lesser than or equal"
   ]
  },
  {
   "cell_type": "markdown",
   "metadata": {},
   "source": [
    "## Assignment Operators"
   ]
  },
  {
   "cell_type": "code",
   "execution_count": 3,
   "metadata": {},
   "outputs": [
    {
     "name": "stdout",
     "output_type": "stream",
     "text": [
      "100\n",
      "102\n",
      "99\n",
      "396\n",
      "79.2\n",
      "1.2000000000000028\n",
      "3.5831808000000596\n",
      "1.0\n"
     ]
    }
   ],
   "source": [
    "i = 100;  print(i)\n",
    "i += 2; print(i)\n",
    "i -= 3; print(i)\n",
    "i *= 4; print(i)\n",
    "i /= 5; print(i)\n",
    "i %= 6; print(i)\n",
    "i **= 7; print(i)\n",
    "i //= 2; print(i)"
   ]
  },
  {
   "cell_type": "markdown",
   "metadata": {},
   "source": [
    "## Logical Operators"
   ]
  },
  {
   "cell_type": "code",
   "execution_count": 4,
   "metadata": {},
   "outputs": [
    {
     "name": "stdout",
     "output_type": "stream",
     "text": [
      "True\n",
      "True\n",
      "True\n",
      "True\n"
     ]
    }
   ],
   "source": [
    "a_string = \"Women Who Code\"\n",
    "print(\"Women\" in a_string)\n",
    "print(\"Men\" not in a_string)\n",
    "print(len(\"Women Who Code\") is len(a_string))\n",
    "print(len(\"Hello World!\") is not len(a_string))"
   ]
  },
  {
   "cell_type": "markdown",
   "metadata": {},
   "source": [
    "## if-elif-else Statements"
   ]
  },
  {
   "cell_type": "code",
   "execution_count": 6,
   "metadata": {},
   "outputs": [
    {
     "name": "stdout",
     "output_type": "stream",
     "text": [
      "Happy\n"
     ]
    }
   ],
   "source": [
    "if(i==1.0):\n",
    "    print(\"Happy\");"
   ]
  },
  {
   "cell_type": "code",
   "execution_count": 7,
   "metadata": {},
   "outputs": [
    {
     "name": "stdout",
     "output_type": "stream",
     "text": [
      "Weekend\n"
     ]
    }
   ],
   "source": [
    "if(i<1.0):\n",
    "    print(\"Happy\")\n",
    "elif(i==1.0):\n",
    "    print(\"Weekend\")"
   ]
  },
  {
   "cell_type": "code",
   "execution_count": 8,
   "metadata": {},
   "outputs": [
    {
     "name": "stdout",
     "output_type": "stream",
     "text": [
      "Ahead!\n"
     ]
    }
   ],
   "source": [
    "if(i<1):\n",
    "    print(\"Happy\")\n",
    "elif(i!=1.0):\n",
    "    print(\"Weekend\")\n",
    "else:\n",
    "    print(\"Ahead!\")"
   ]
  },
  {
   "cell_type": "markdown",
   "metadata": {},
   "source": [
    "#### References\n",
    "https://www.learnpython.org/en/Conditions  \n",
    "https://www.tutorialspoint.com/python/python_basic_operators.htm  "
   ]
  }
 ],
 "metadata": {
  "kernelspec": {
   "display_name": "Python 3",
   "language": "python",
   "name": "python3"
  },
  "language_info": {
   "codemirror_mode": {
    "name": "ipython",
    "version": 3
   },
   "file_extension": ".py",
   "mimetype": "text/x-python",
   "name": "python",
   "nbconvert_exporter": "python",
   "pygments_lexer": "ipython3",
   "version": "3.6.0"
  }
 },
 "nbformat": 4,
 "nbformat_minor": 2
}
