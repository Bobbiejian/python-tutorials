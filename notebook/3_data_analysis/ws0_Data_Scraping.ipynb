{
 "cells": [
  {
   "cell_type": "markdown",
   "metadata": {},
   "source": [
    "# Data.gov.sg\n",
    "https://data.gov.sg/\n",
    "\n",
    "## infectous disease data\n",
    "Download SG weekly infectious disease file from:  \n",
    "https://data.gov.sg/dataset/weekly-infectious-disease-bulletin-cases"
   ]
  },
  {
   "cell_type": "code",
   "execution_count": 16,
   "metadata": {
    "collapsed": true
   },
   "outputs": [],
   "source": [
    "import os\n",
    "import urllib.request as r\n",
    "import pandas as pd\n",
    "import requests"
   ]
  },
  {
   "cell_type": "code",
   "execution_count": 2,
   "metadata": {
    "collapsed": true
   },
   "outputs": [],
   "source": [
    "URL = \"https://data.gov.sg/dataset/e51da589-b2d7-486b-adfc-4505d47e1206/download\""
   ]
  },
  {
   "cell_type": "markdown",
   "metadata": {},
   "source": [
    "Send request, to retrieve file"
   ]
  },
  {
   "cell_type": "code",
   "execution_count": 3,
   "metadata": {
    "collapsed": true
   },
   "outputs": [],
   "source": [
    "dir_path = \"./../../data/1_raw/\"\n",
    "FILE_NAME = dir_path+\"weekly-infectious-disease-bulletin-cases.zip\""
   ]
  },
  {
   "cell_type": "code",
   "execution_count": 4,
   "metadata": {},
   "outputs": [],
   "source": [
    "# add headers by building an opener\n",
    "opener = r.build_opener()\n",
    "opener.addheaders = [('User-agent', 'Mozilla/5.0')]"
   ]
  },
  {
   "cell_type": "code",
   "execution_count": 5,
   "metadata": {
    "collapsed": true
   },
   "outputs": [],
   "source": [
    "# Download the file from `URL` and save it locally under `FILE_NAME`:\n",
    "with opener.open(URL) as response, open(FILE_NAME, 'wb') as out_file:\n",
    "    data = response.read() # a `bytes` object\n",
    "    out_file.write(data)"
   ]
  },
  {
   "cell_type": "markdown",
   "metadata": {},
   "source": [
    "# Weather Data\n",
    "http://www.weather.gov.sg/climate-historical-daily/\n",
    "\n",
    "We want only those weather stations that has data from year 2012 onwards, and has mean teamperatures.\n",
    "\n",
    "http://www.weather.gov.sg/wp-content/uploads/2016/12/Station_Records.pdf\n",
    "\n",
    "Tengah - S23\n",
    "Changi - S24\n",
    "Seletar - S25\n",
    "Tai Seng - S43\n",
    "Jurong West - S44\n",
    "Ang Mo Kio - S109\n",
    "Clementi - S50\n",
    "Admiralty - S104\n",
    "Sentosa Island - S60\n",
    "Sembawang - S80\n",
    "Boon Lay (East) - S86\n",
    "Semakau Island - S102\n",
    "Pulau Ubin - S106\n",
    "East Coast Parkway - S107\n",
    "Marina Barrage - S108\n",
    "Newton - S111\n",
    "Tuas South - S115\n",
    "\n",
    "## Download\n",
    "Set a list of weather station ids:"
   ]
  },
  {
   "cell_type": "code",
   "execution_count": 11,
   "metadata": {
    "collapsed": true
   },
   "outputs": [],
   "source": [
    "weather_station_ids = [23, 24, 25, 43, 44, 50, 60, 80, 86, 102, 104, 106, 107, 108, 109, 111, 115]\n",
    "months = list(range(1,13))\n",
    "years = list(range(2012,2019))"
   ]
  },
  {
   "cell_type": "markdown",
   "metadata": {},
   "source": [
    "Set base url:"
   ]
  },
  {
   "cell_type": "code",
   "execution_count": 12,
   "metadata": {
    "collapsed": true
   },
   "outputs": [],
   "source": [
    "base_url = \"http://www.weather.gov.sg/files/dailydata/DAILYDATA_\"\n",
    "out_path = dir_path + \"weather/\"\n",
    "if not os.path.exists(out_path):\n",
    "    os.makedirs(out_path)"
   ]
  },
  {
   "cell_type": "markdown",
   "metadata": {},
   "source": [
    "Set today's year and month:"
   ]
  },
  {
   "cell_type": "code",
   "execution_count": 13,
   "metadata": {
    "collapsed": true
   },
   "outputs": [],
   "source": [
    "from datetime import datetime\n",
    "today_ym = int(datetime.today().strftime(\"%Y%m\"))\n",
    "today_d = int(datetime.today().strftime(\"%d\"))"
   ]
  },
  {
   "cell_type": "markdown",
   "metadata": {},
   "source": [
    "Loop through to download data"
   ]
  },
  {
   "cell_type": "code",
   "execution_count": 17,
   "metadata": {},
   "outputs": [],
   "source": [
    "for year in years:\n",
    "    y = str(year)\n",
    "    for month in months:\n",
    "        m = \"%02d\"%month\n",
    "        file_ym = int(y+m)\n",
    "        if ((file_ym == (today_ym-1)) and (today_d <= 10)):\n",
    "            break\n",
    "        elif (file_ym == today_ym):\n",
    "            break\n",
    "        for station_id in weather_station_ids:\n",
    "            ws = 'S' + str(station_id)\n",
    "            try:\n",
    "                # set URL\n",
    "                url = base_url + ws + \"_\" + y + m + \".csv\"\n",
    "                # set out file name\n",
    "                filename = out_path + ws + \"_\" + y + m + \".csv\"\n",
    "                # retrieve file\n",
    "                response = requests.get(url)\n",
    "                if response.status_code == 200:\n",
    "                    with open(filename, 'wb') as f:\n",
    "                        f.write(response.content)\n",
    "            except:\n",
    "                # as not all data is available the same month for all the stations you will get a 404 error if the data is not here\n",
    "                pass"
   ]
  },
  {
   "cell_type": "markdown",
   "metadata": {},
   "source": [
    "Explore the data collected:"
   ]
  },
  {
   "cell_type": "code",
   "execution_count": 18,
   "metadata": {},
   "outputs": [],
   "source": [
    "dfWeather = pd.read_csv(out_path+\"S111_201803.csv\", encoding='latin_1')"
   ]
  },
  {
   "cell_type": "code",
   "execution_count": 19,
   "metadata": {},
   "outputs": [
    {
     "data": {
      "text/html": [
       "<div>\n",
       "<style scoped>\n",
       "    .dataframe tbody tr th:only-of-type {\n",
       "        vertical-align: middle;\n",
       "    }\n",
       "\n",
       "    .dataframe tbody tr th {\n",
       "        vertical-align: top;\n",
       "    }\n",
       "\n",
       "    .dataframe thead th {\n",
       "        text-align: right;\n",
       "    }\n",
       "</style>\n",
       "<table border=\"1\" class=\"dataframe\">\n",
       "  <thead>\n",
       "    <tr style=\"text-align: right;\">\n",
       "      <th></th>\n",
       "      <th>Station</th>\n",
       "      <th>Year</th>\n",
       "      <th>Month</th>\n",
       "      <th>Day</th>\n",
       "      <th>Daily Rainfall Total (mm)</th>\n",
       "      <th>Highest 30 Min Rainfall (mm)</th>\n",
       "      <th>Highest 60 Min Rainfall (mm)</th>\n",
       "      <th>Highest 120 Min Rainfall (mm)</th>\n",
       "      <th>Mean Temperature (°C)</th>\n",
       "      <th>Maximum Temperature (°C)</th>\n",
       "      <th>Minimum Temperature (°C)</th>\n",
       "      <th>Mean Wind Speed (km/h)</th>\n",
       "      <th>Max Wind Speed (km/h)</th>\n",
       "    </tr>\n",
       "  </thead>\n",
       "  <tbody>\n",
       "    <tr>\n",
       "      <th>0</th>\n",
       "      <td>Newton</td>\n",
       "      <td>2018</td>\n",
       "      <td>3</td>\n",
       "      <td>1</td>\n",
       "      <td>0.0</td>\n",
       "      <td>0.0</td>\n",
       "      <td>0.0</td>\n",
       "      <td>0.0</td>\n",
       "      <td>27.6</td>\n",
       "      <td>32.6</td>\n",
       "      <td>25.1</td>\n",
       "      <td>5.8</td>\n",
       "      <td>28.4</td>\n",
       "    </tr>\n",
       "    <tr>\n",
       "      <th>1</th>\n",
       "      <td>Newton</td>\n",
       "      <td>2018</td>\n",
       "      <td>3</td>\n",
       "      <td>2</td>\n",
       "      <td>28.0</td>\n",
       "      <td>22.4</td>\n",
       "      <td>27.6</td>\n",
       "      <td>28.0</td>\n",
       "      <td>27.2</td>\n",
       "      <td>31.9</td>\n",
       "      <td>23.5</td>\n",
       "      <td>5.4</td>\n",
       "      <td>23.8</td>\n",
       "    </tr>\n",
       "    <tr>\n",
       "      <th>2</th>\n",
       "      <td>Newton</td>\n",
       "      <td>2018</td>\n",
       "      <td>3</td>\n",
       "      <td>3</td>\n",
       "      <td>0.0</td>\n",
       "      <td>0.0</td>\n",
       "      <td>0.0</td>\n",
       "      <td>0.0</td>\n",
       "      <td>27.6</td>\n",
       "      <td>32.7</td>\n",
       "      <td>25.6</td>\n",
       "      <td>6.1</td>\n",
       "      <td>28.4</td>\n",
       "    </tr>\n",
       "    <tr>\n",
       "      <th>3</th>\n",
       "      <td>Newton</td>\n",
       "      <td>2018</td>\n",
       "      <td>3</td>\n",
       "      <td>4</td>\n",
       "      <td>32.8</td>\n",
       "      <td>31.0</td>\n",
       "      <td>32.4</td>\n",
       "      <td>32.8</td>\n",
       "      <td>27.1</td>\n",
       "      <td>32.2</td>\n",
       "      <td>24.3</td>\n",
       "      <td>5.0</td>\n",
       "      <td>27.0</td>\n",
       "    </tr>\n",
       "    <tr>\n",
       "      <th>4</th>\n",
       "      <td>Newton</td>\n",
       "      <td>2018</td>\n",
       "      <td>3</td>\n",
       "      <td>5</td>\n",
       "      <td>0.0</td>\n",
       "      <td>0.0</td>\n",
       "      <td>0.0</td>\n",
       "      <td>0.0</td>\n",
       "      <td>28.3</td>\n",
       "      <td>33.1</td>\n",
       "      <td>25.8</td>\n",
       "      <td>6.5</td>\n",
       "      <td>31.0</td>\n",
       "    </tr>\n",
       "  </tbody>\n",
       "</table>\n",
       "</div>"
      ],
      "text/plain": [
       "  Station  Year  Month  Day  Daily Rainfall Total (mm)  \\\n",
       "0  Newton  2018      3    1                        0.0   \n",
       "1  Newton  2018      3    2                       28.0   \n",
       "2  Newton  2018      3    3                        0.0   \n",
       "3  Newton  2018      3    4                       32.8   \n",
       "4  Newton  2018      3    5                        0.0   \n",
       "\n",
       "   Highest 30 Min Rainfall (mm)  Highest 60 Min Rainfall (mm)  \\\n",
       "0                           0.0                           0.0   \n",
       "1                          22.4                          27.6   \n",
       "2                           0.0                           0.0   \n",
       "3                          31.0                          32.4   \n",
       "4                           0.0                           0.0   \n",
       "\n",
       "   Highest 120 Min Rainfall (mm)  Mean Temperature (°C)  \\\n",
       "0                            0.0                   27.6   \n",
       "1                           28.0                   27.2   \n",
       "2                            0.0                   27.6   \n",
       "3                           32.8                   27.1   \n",
       "4                            0.0                   28.3   \n",
       "\n",
       "   Maximum Temperature (°C)  Minimum Temperature (°C)  Mean Wind Speed (km/h)  \\\n",
       "0                      32.6                      25.1                     5.8   \n",
       "1                      31.9                      23.5                     5.4   \n",
       "2                      32.7                      25.6                     6.1   \n",
       "3                      32.2                      24.3                     5.0   \n",
       "4                      33.1                      25.8                     6.5   \n",
       "\n",
       "   Max Wind Speed (km/h)  \n",
       "0                   28.4  \n",
       "1                   23.8  \n",
       "2                   28.4  \n",
       "3                   27.0  \n",
       "4                   31.0  "
      ]
     },
     "execution_count": 19,
     "metadata": {},
     "output_type": "execute_result"
    }
   ],
   "source": [
    "dfWeather.head()"
   ]
  },
  {
   "cell_type": "code",
   "execution_count": null,
   "metadata": {
    "collapsed": true
   },
   "outputs": [],
   "source": []
  }
 ],
 "metadata": {
  "kernelspec": {
   "display_name": "Python 3",
   "language": "python",
   "name": "python3"
  },
  "language_info": {
   "codemirror_mode": {
    "name": "ipython",
    "version": 3
   },
   "file_extension": ".py",
   "mimetype": "text/x-python",
   "name": "python",
   "nbconvert_exporter": "python",
   "pygments_lexer": "ipython3",
   "version": "3.6.3"
  }
 },
 "nbformat": 4,
 "nbformat_minor": 2
}
