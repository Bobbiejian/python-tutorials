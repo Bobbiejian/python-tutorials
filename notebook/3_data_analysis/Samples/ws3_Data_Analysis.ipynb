{
 "cells": [
  {
   "cell_type": "code",
   "execution_count": 1,
   "metadata": {
    "collapsed": true
   },
   "outputs": [],
   "source": [
    "import pandas as pd\n",
    "import matplotlib.pyplot as plt\n",
    "%matplotlib inline\n",
    "import numpy as np"
   ]
  },
  {
   "cell_type": "code",
   "execution_count": 3,
   "metadata": {},
   "outputs": [],
   "source": [
    "clean_path = \"../../../data/3_clean/\"\n",
    "dfData = pd.read_csv(clean_path+'data.csv', index_col=[0,1])"
   ]
  },
  {
   "cell_type": "code",
   "execution_count": 4,
   "metadata": {},
   "outputs": [
    {
     "data": {
      "text/html": [
       "<div>\n",
       "<style scoped>\n",
       "    .dataframe tbody tr th:only-of-type {\n",
       "        vertical-align: middle;\n",
       "    }\n",
       "\n",
       "    .dataframe tbody tr th {\n",
       "        vertical-align: top;\n",
       "    }\n",
       "\n",
       "    .dataframe thead th {\n",
       "        text-align: right;\n",
       "    }\n",
       "</style>\n",
       "<table border=\"1\" class=\"dataframe\">\n",
       "  <thead>\n",
       "    <tr style=\"text-align: right;\">\n",
       "      <th></th>\n",
       "      <th></th>\n",
       "      <th>Minimum Temperature</th>\n",
       "      <th>Daily Rainfall Total</th>\n",
       "      <th>Mean Temperature</th>\n",
       "      <th>Mean Wind Speed</th>\n",
       "      <th>Maximum Temperature</th>\n",
       "      <th>Max Wind Speed</th>\n",
       "      <th>Malaria</th>\n",
       "      <th>Dengue</th>\n",
       "    </tr>\n",
       "    <tr>\n",
       "      <th>Year</th>\n",
       "      <th>Week</th>\n",
       "      <th></th>\n",
       "      <th></th>\n",
       "      <th></th>\n",
       "      <th></th>\n",
       "      <th></th>\n",
       "      <th></th>\n",
       "      <th></th>\n",
       "      <th></th>\n",
       "    </tr>\n",
       "  </thead>\n",
       "  <tbody>\n",
       "    <tr>\n",
       "      <th rowspan=\"5\" valign=\"top\">2012</th>\n",
       "      <th>1</th>\n",
       "      <td>23.0</td>\n",
       "      <td>1.860504</td>\n",
       "      <td>27.002632</td>\n",
       "      <td>11.973950</td>\n",
       "      <td>32.9</td>\n",
       "      <td>114.1</td>\n",
       "      <td>1.0</td>\n",
       "      <td>74.0</td>\n",
       "    </tr>\n",
       "    <tr>\n",
       "      <th>2</th>\n",
       "      <td>21.8</td>\n",
       "      <td>3.473109</td>\n",
       "      <td>26.391453</td>\n",
       "      <td>8.773109</td>\n",
       "      <td>33.7</td>\n",
       "      <td>64.8</td>\n",
       "      <td>2.0</td>\n",
       "      <td>66.0</td>\n",
       "    </tr>\n",
       "    <tr>\n",
       "      <th>3</th>\n",
       "      <td>21.4</td>\n",
       "      <td>12.357983</td>\n",
       "      <td>27.158772</td>\n",
       "      <td>6.971429</td>\n",
       "      <td>34.6</td>\n",
       "      <td>60.8</td>\n",
       "      <td>2.0</td>\n",
       "      <td>61.0</td>\n",
       "    </tr>\n",
       "    <tr>\n",
       "      <th>4</th>\n",
       "      <td>22.0</td>\n",
       "      <td>1.522689</td>\n",
       "      <td>26.740000</td>\n",
       "      <td>9.651261</td>\n",
       "      <td>33.2</td>\n",
       "      <td>51.8</td>\n",
       "      <td>3.0</td>\n",
       "      <td>52.0</td>\n",
       "    </tr>\n",
       "    <tr>\n",
       "      <th>5</th>\n",
       "      <td>21.3</td>\n",
       "      <td>7.144538</td>\n",
       "      <td>26.499160</td>\n",
       "      <td>9.527731</td>\n",
       "      <td>32.8</td>\n",
       "      <td>65.5</td>\n",
       "      <td>1.0</td>\n",
       "      <td>85.0</td>\n",
       "    </tr>\n",
       "  </tbody>\n",
       "</table>\n",
       "</div>"
      ],
      "text/plain": [
       "           Minimum Temperature  Daily Rainfall Total  Mean Temperature  \\\n",
       "Year Week                                                                \n",
       "2012 1                    23.0              1.860504         27.002632   \n",
       "     2                    21.8              3.473109         26.391453   \n",
       "     3                    21.4             12.357983         27.158772   \n",
       "     4                    22.0              1.522689         26.740000   \n",
       "     5                    21.3              7.144538         26.499160   \n",
       "\n",
       "           Mean Wind Speed  Maximum Temperature  Max Wind Speed  Malaria  \\\n",
       "Year Week                                                                  \n",
       "2012 1           11.973950                 32.9           114.1      1.0   \n",
       "     2            8.773109                 33.7            64.8      2.0   \n",
       "     3            6.971429                 34.6            60.8      2.0   \n",
       "     4            9.651261                 33.2            51.8      3.0   \n",
       "     5            9.527731                 32.8            65.5      1.0   \n",
       "\n",
       "           Dengue  \n",
       "Year Week          \n",
       "2012 1       74.0  \n",
       "     2       66.0  \n",
       "     3       61.0  \n",
       "     4       52.0  \n",
       "     5       85.0  "
      ]
     },
     "execution_count": 4,
     "metadata": {},
     "output_type": "execute_result"
    }
   ],
   "source": [
    "dfData.head()"
   ]
  },
  {
   "cell_type": "markdown",
   "metadata": {},
   "source": [
    "### Compare over years"
   ]
  },
  {
   "cell_type": "code",
   "execution_count": 5,
   "metadata": {
    "collapsed": true
   },
   "outputs": [],
   "source": [
    "dataYear = []\n",
    "for year in dfData.index.levels[0].unique():\n",
    "    dataYear.append([year, dfData.loc(axis=0)[year].Malaria.sum(), \n",
    "                         dfData.loc(axis=0)[year].Dengue.sum()])\n",
    "    "
   ]
  },
  {
   "cell_type": "code",
   "execution_count": 6,
   "metadata": {},
   "outputs": [
    {
     "data": {
      "text/plain": [
       "[[2012, 143.0, 4632.0],\n",
       " [2013, 111.0, 22194.0],\n",
       " [2014, 62.0, 18326.0],\n",
       " [2015, 49.0, 11303.0],\n",
       " [2016, 30.0, 13179.0],\n",
       " [2017, 39.0, 2776.0]]"
      ]
     },
     "execution_count": 6,
     "metadata": {},
     "output_type": "execute_result"
    }
   ],
   "source": [
    "dataYear"
   ]
  },
  {
   "cell_type": "code",
   "execution_count": 7,
   "metadata": {},
   "outputs": [
    {
     "data": {
      "text/plain": [
       "4632.0"
      ]
     },
     "execution_count": 7,
     "metadata": {},
     "output_type": "execute_result"
    }
   ],
   "source": [
    "dfData.loc(axis=0)[2012].Dengue.sum()"
   ]
  },
  {
   "cell_type": "code",
   "execution_count": 8,
   "metadata": {
    "collapsed": true
   },
   "outputs": [],
   "source": [
    "dfDataByYear = pd.DataFrame(dataYear, columns = ['Year','Malaria','Dengue'])\n"
   ]
  },
  {
   "cell_type": "code",
   "execution_count": 9,
   "metadata": {
    "collapsed": true
   },
   "outputs": [],
   "source": [
    "dfDataByYear = dfDataByYear.set_index(['Year'])"
   ]
  },
  {
   "cell_type": "code",
   "execution_count": 10,
   "metadata": {},
   "outputs": [
    {
     "data": {
      "text/plain": [
       "<matplotlib.axes._subplots.AxesSubplot at 0x10cea8630>"
      ]
     },
     "execution_count": 10,
     "metadata": {},
     "output_type": "execute_result"
    },
    {
     "data": {
      "image/png": "[encoded data removed]",
      "text/plain": [
       "<matplotlib.figure.Figure at 0x10cea8c18>"
      ]
     },
     "metadata": {},
     "output_type": "display_data"
    }
   ],
   "source": [
    "dfDataByYear.plot.bar()"
   ]
  },
  {
   "cell_type": "code",
   "execution_count": 11,
   "metadata": {},
   "outputs": [
    {
     "data": {
      "text/plain": [
       "<matplotlib.axes._subplots.AxesSubplot at 0x10cea8c88>"
      ]
     },
     "execution_count": 11,
     "metadata": {},
     "output_type": "execute_result"
    },
    {
     "data": {
      "image/png": "[encoded data removed]",
      "text/plain": [
       "<matplotlib.figure.Figure at 0x10cf58080>"
      ]
     },
     "metadata": {},
     "output_type": "display_data"
    }
   ],
   "source": [
    "dfDataByYear[['Malaria']].plot.bar()"
   ]
  },
  {
   "cell_type": "code",
   "execution_count": null,
   "metadata": {
    "collapsed": true
   },
   "outputs": [],
   "source": []
  },
  {
   "cell_type": "markdown",
   "metadata": {},
   "source": [
    "Get point of max for Dengue for the different years"
   ]
  },
  {
   "cell_type": "code",
   "execution_count": null,
   "metadata": {
    "collapsed": true
   },
   "outputs": [],
   "source": [
    "dfData.Dengue.idxmax()"
   ]
  }
 ],
 "metadata": {
  "kernelspec": {
   "display_name": "Python 3",
   "language": "python",
   "name": "python3"
  },
  "language_info": {
   "codemirror_mode": {
    "name": "ipython",
    "version": 3
   },
   "file_extension": ".py",
   "mimetype": "text/x-python",
   "name": "python",
   "nbconvert_exporter": "python",
   "pygments_lexer": "ipython3",
   "version": "3.6.3"
  }
 },
 "nbformat": 4,
 "nbformat_minor": 2
}
