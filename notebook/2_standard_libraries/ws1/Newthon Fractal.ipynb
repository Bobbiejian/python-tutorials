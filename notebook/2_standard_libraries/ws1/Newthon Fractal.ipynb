{
 "cells": [
  {
   "cell_type": "markdown",
   "metadata": {},
   "source": [
    "# Newton's method\n",
    "https://en.wikipedia.org/wiki/Newton%27s_method  \n",
    "\n",
    "An iterative procedure to find numerical solutions or roots to an equaition using an initial guess.  \n",
    "\n",
    "When mapping out the initial guesses, they converge to results in an image known as Newton's fractal, which is geometrically interesting.  \n",
    "\n",
    "## f(z) = z**4 + 1\n",
    "We will map the function, which has four roots.\n",
    "\n",
    "import pi, cos and sin from cmath:"
   ]
  },
  {
   "cell_type": "code",
   "execution_count": null,
   "metadata": {
    "collapsed": true
   },
   "outputs": [],
   "source": []
  },
  {
   "cell_type": "markdown",
   "metadata": {},
   "source": [
    "Solutions to the problem (Euler's formula): "
   ]
  },
  {
   "cell_type": "code",
   "execution_count": null,
   "metadata": {
    "collapsed": true
   },
   "outputs": [],
   "source": [
    "solutions = [cos((2*n+1)*pi/4) + 1j*sin((2*n+1)*pi/4) for n in range(4)]"
   ]
  },
  {
   "cell_type": "markdown",
   "metadata": {},
   "source": [
    "Print out solutions to verify using pprint:"
   ]
  },
  {
   "cell_type": "code",
   "execution_count": null,
   "metadata": {},
   "outputs": [],
   "source": [
    "from pprint import pprint\n",
    "pprint([z**4 for z in solutions])"
   ]
  },
  {
   "cell_type": "markdown",
   "metadata": {
    "collapsed": true
   },
   "source": [
    "Since there are four solutions, there will be four colours."
   ]
  },
  {
   "cell_type": "markdown",
   "metadata": {},
   "source": [
    "Set the colors Red Green Blue Yellow in a list of RBG value tuples:"
   ]
  },
  {
   "cell_type": "code",
   "execution_count": null,
   "metadata": {
    "collapsed": true
   },
   "outputs": [],
   "source": []
  },
  {
   "cell_type": "markdown",
   "metadata": {},
   "source": [
    "Using colour depth to define the shade of the colour to represent how close to a solution, i.e. the distance.  \n",
    "\n",
    "Generate a list of values corresponding to the distances using a list coprehension.  \n",
    "For example using an arbitrary root:"
   ]
  },
  {
   "cell_type": "code",
   "execution_count": null,
   "metadata": {},
   "outputs": [],
   "source": [
    "z = sqrt(2)/2*(1+1j)\n",
    "z"
   ]
  },
  {
   "cell_type": "markdown",
   "metadata": {},
   "source": [
    "The error, or distance to solution:"
   ]
  },
  {
   "cell_type": "code",
   "execution_count": null,
   "metadata": {},
   "outputs": [],
   "source": [
    "err = \n",
    "err"
   ]
  },
  {
   "cell_type": "markdown",
   "metadata": {},
   "source": [
    "Combine these values with the numbers 0-3 to represent the indices to the colour list using the zip() function:"
   ]
  },
  {
   "cell_type": "code",
   "execution_count": null,
   "metadata": {},
   "outputs": [],
   "source": []
  },
  {
   "cell_type": "code",
   "execution_count": null,
   "metadata": {},
   "outputs": [],
   "source": [
    "list(_)"
   ]
  },
  {
   "cell_type": "markdown",
   "metadata": {},
   "source": [
    "Find the minimum error by calling the function min(). "
   ]
  },
  {
   "cell_type": "code",
   "execution_count": null,
   "metadata": {},
   "outputs": [],
   "source": [
    "distances = list(zip(err, range(len(colour))))\n"
   ]
  },
  {
   "cell_type": "markdown",
   "metadata": {},
   "source": [
    "To find the correct colour, we index the colour associated with min(distances)[1]:  \n",
    "Which is the first colour Red:"
   ]
  },
  {
   "cell_type": "code",
   "execution_count": null,
   "metadata": {},
   "outputs": [],
   "source": []
  },
  {
   "cell_type": "markdown",
   "metadata": {},
   "source": [
    "To get the colour, multiply the RGB values by distance (colour depth):"
   ]
  },
  {
   "cell_type": "code",
   "execution_count": null,
   "metadata": {},
   "outputs": [],
   "source": [
    "colour = [i*colour_depth for i in colours[min(distances)[1]]]\n",
    "colour"
   ]
  },
  {
   "cell_type": "markdown",
   "metadata": {},
   "source": [
    "Convert colour to tuple:"
   ]
  },
  {
   "cell_type": "code",
   "execution_count": null,
   "metadata": {},
   "outputs": [],
   "source": []
  },
  {
   "cell_type": "markdown",
   "metadata": {},
   "source": [
    "## put it all together\n"
   ]
  },
  {
   "cell_type": "code",
   "execution_count": null,
   "metadata": {
    "collapsed": true
   },
   "outputs": [],
   "source": [
    "# create a z**4+1 = 0 fractal using the Newton-Raphson root finding method\n",
    "delta = 0.000001 # convergence criteria\n",
    "res = 800 # image size\n",
    "iters = 30 # number of iterations"
   ]
  },
  {
   "cell_type": "markdown",
   "metadata": {
    "collapsed": true
   },
   "source": [
    "import Image module from the PIL library  \n",
    "import all from cmath library"
   ]
  },
  {
   "cell_type": "code",
   "execution_count": null,
   "metadata": {
    "collapsed": true
   },
   "outputs": [],
   "source": []
  },
  {
   "cell_type": "markdown",
   "metadata": {},
   "source": [
    "Create an image to draw on, paint it black initially"
   ]
  },
  {
   "cell_type": "code",
   "execution_count": null,
   "metadata": {
    "collapsed": true
   },
   "outputs": [],
   "source": [
    "img = "
   ]
  },
  {
   "cell_type": "markdown",
   "metadata": {},
   "source": [
    "Iterate through the real and imaginary parts (row/col) to get possible solutions:"
   ]
  },
  {
   "cell_type": "code",
   "execution_count": null,
   "metadata": {},
   "outputs": [],
   "source": [
    "for :\n",
    "    for :\n",
    "        z = (re+1j*im)/res\n",
    "        for i in range(iters):\n",
    "            try:\n",
    "                z -= (z**4+1)/(4*z**3)\n",
    "            except ZeroDivisionError:\n",
    "                # possibly divide by zero exception\n",
    "                continue\n",
    "            if (abs(z**4+1)<delta):\n",
    "                break\n",
    "        \n",
    "        # colour depth is a function of number of iterations\n",
    "        colour_depth = \n",
    "        \n",
    "        # find to which solution this guess converge to \n",
    "        err = \n",
    "        distances = \n",
    "        \n",
    "        # select the colour associated with the solution\n",
    "        colour = "
   ]
  },
  {
   "cell_type": "code",
   "execution_count": null,
   "metadata": {
    "collapsed": true
   },
   "outputs": [],
   "source": []
  }
 ],
 "metadata": {
  "kernelspec": {
   "display_name": "Python 3",
   "language": "python",
   "name": "python3"
  },
  "language_info": {
   "codemirror_mode": {
    "name": "ipython",
    "version": 3
   },
   "file_extension": ".py",
   "mimetype": "text/x-python",
   "name": "python",
   "nbconvert_exporter": "python",
   "pygments_lexer": "ipython3",
   "version": "3.6.3"
  }
 },
 "nbformat": 4,
 "nbformat_minor": 2
}
