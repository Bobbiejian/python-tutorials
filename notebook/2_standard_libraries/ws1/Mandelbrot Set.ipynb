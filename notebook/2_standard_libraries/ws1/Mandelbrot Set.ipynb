{
 "cells": [
  {
   "cell_type": "markdown",
   "metadata": {},
   "source": [
    "# Mandelbrot Set\n",
    "Fractals are fun to for visualisation.  \n",
    "https://en.wikipedia.org/wiki/Mandelbrot_set\n",
    "\n",
    "The Mandelbrot set is the set of complex numbers c where,  \n",
    "    f(z) = z^2 + c\n",
    "\n",
    "## cmath\n",
    "cmath library returns complex numbers\n",
    "\n",
    "import cmath library:"
   ]
  },
  {
   "cell_type": "code",
   "execution_count": null,
   "metadata": {
    "collapsed": true
   },
   "outputs": [],
   "source": []
  },
  {
   "cell_type": "markdown",
   "metadata": {},
   "source": [
    "### Generate a fractal:\n",
    "Set 'c' as an arbitrary point, and set 'z' to zero:"
   ]
  },
  {
   "cell_type": "code",
   "execution_count": null,
   "metadata": {
    "collapsed": true
   },
   "outputs": [],
   "source": [
    "c=0.4+1j*0.5\n",
    "z=0"
   ]
  },
  {
   "cell_type": "markdown",
   "metadata": {},
   "source": [
    "Repeat the following 7 times, observe that the values of abs(z) gets increasingly larger."
   ]
  },
  {
   "cell_type": "code",
   "execution_count": null,
   "metadata": {},
   "outputs": [],
   "source": [
    "z=z**2+c\n",
    "print(z, abs(z))"
   ]
  },
  {
   "cell_type": "code",
   "execution_count": null,
   "metadata": {},
   "outputs": [],
   "source": [
    "for "
   ]
  },
  {
   "cell_type": "markdown",
   "metadata": {},
   "source": [
    "And after the seventh iteration, the value is greater than 2"
   ]
  },
  {
   "cell_type": "markdown",
   "metadata": {},
   "source": [
    "## create an image of the Mandelbrot set\n",
    "set image size (resolution) and iterations:"
   ]
  },
  {
   "cell_type": "code",
   "execution_count": null,
   "metadata": {
    "collapsed": true
   },
   "outputs": [],
   "source": [
    "res = 400\n",
    "iters = 200"
   ]
  },
  {
   "cell_type": "markdown",
   "metadata": {},
   "source": [
    "## PIL library\n",
    "http://pillow.readthedocs.io/en/3.1.x/installation.html  \n",
    "The Python Imaging Library handles raster images; that is, rectangles of pixel data.  \n",
    "To install:\n",
    "\n",
    "    pip3 install Pillow\n",
    "\n",
    "or\n",
    "\n",
    "    conda install Pillow\n",
    "\n",
    "\n",
    "\n",
    "From PIL library import Image"
   ]
  },
  {
   "cell_type": "code",
   "execution_count": null,
   "metadata": {
    "collapsed": true
   },
   "outputs": [],
   "source": []
  },
  {
   "cell_type": "markdown",
   "metadata": {},
   "source": [
    "Set an image of black and white with white background:  \n",
    "http://pillow.readthedocs.io/en/3.1.x/reference/Image.html#PIL.Image.new"
   ]
  },
  {
   "cell_type": "code",
   "execution_count": null,
   "metadata": {
    "collapsed": true
   },
   "outputs": [],
   "source": [
    "img = "
   ]
  },
  {
   "cell_type": "markdown",
   "metadata": {},
   "source": [
    "Using the following:  \n",
    "\n",
    "    (1) c = (col*2/res-1.5)+1j*(row*2/res-1)   \n",
    "    (2) z=0\n",
    "\n",
    "* Iterate through each row and column in the plot, and create a complex number c using the col, row and res.  \n",
    "\n",
    "Then using the following:  \n",
    "\n",
    "    (3) z=z**2+c     \n",
    "\n",
    "* and iterate through fractal for that point until we get a value of z that is larger than 2.  \n",
    "* set the colour for that pixel."
   ]
  },
  {
   "cell_type": "code",
   "execution_count": null,
   "metadata": {},
   "outputs": [],
   "source": [
    "for : # row\n",
    "    for : # col\n",
    "        # (1)\n",
    "        \n",
    "        # (2)\n",
    "        \n",
    "        for i in range(iters):\n",
    "            # (3)\n",
    "            \n",
    "            if abs(z)>2:\n",
    "                color = int(255-i*255/iters)\n",
    "                # use putpixel to set the color for the pixel\n",
    "                # http://pillow.readthedocs.io/en/3.1.x/reference/Image.html#PIL.Image.Image.putpixel\n",
    "                \n",
    "                break\n",
    "img"
   ]
  },
  {
   "cell_type": "markdown",
   "metadata": {},
   "source": [
    "## ImageOps\n",
    "http://pillow.readthedocs.io/en/3.1.x/reference/ImageOps.html  \n",
    "The ImageOps module contains a number of ‘ready-made’ image processing operations.  \n",
    "\n",
    "from PIL import ImageOps:"
   ]
  },
  {
   "cell_type": "code",
   "execution_count": null,
   "metadata": {
    "collapsed": true
   },
   "outputs": [],
   "source": []
  },
  {
   "cell_type": "markdown",
   "metadata": {},
   "source": [
    "### PIL.ImageOps.equalize(image, mask=None)\n",
    "http://pillow.readthedocs.io/en/3.1.x/reference/ImageOps.html#PIL.ImageOps.equalize  \n",
    "Equalize the image histogram. This function applies a non-linear mapping to the input image, in order to create a uniform distribution of grayscale values in the output image.  \n",
    "\n",
    "equalize the image:"
   ]
  },
  {
   "cell_type": "code",
   "execution_count": null,
   "metadata": {},
   "outputs": [],
   "source": []
  },
  {
   "cell_type": "markdown",
   "metadata": {},
   "source": [
    "Now put them alltogether and try with different values of iters:\n",
    "\n",
    "For more challenge:-  \n",
    "Create an image instance with 'RGB' (3x8-bit pixels, true color)\n",
    ", size of 400x400 and colour to use '255' which is white.  "
   ]
  },
  {
   "cell_type": "code",
   "execution_count": null,
   "metadata": {},
   "outputs": [],
   "source": []
  },
  {
   "cell_type": "markdown",
   "metadata": {
    "collapsed": true
   },
   "source": [
    "Save the image:"
   ]
  },
  {
   "cell_type": "code",
   "execution_count": null,
   "metadata": {
    "collapsed": true
   },
   "outputs": [],
   "source": []
  }
 ],
 "metadata": {
  "kernelspec": {
   "display_name": "Python 3",
   "language": "python",
   "name": "python3"
  },
  "language_info": {
   "codemirror_mode": {
    "name": "ipython",
    "version": 3
   },
   "file_extension": ".py",
   "mimetype": "text/x-python",
   "name": "python",
   "nbconvert_exporter": "python",
   "pygments_lexer": "ipython3",
   "version": "3.6.3"
  }
 },
 "nbformat": 4,
 "nbformat_minor": 2
}
